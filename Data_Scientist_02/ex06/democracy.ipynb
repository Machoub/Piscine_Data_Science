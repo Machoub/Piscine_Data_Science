{
 "cells": [
  {
   "cell_type": "code",
   "execution_count": 81,
   "id": "f7d6a088",
   "metadata": {},
   "outputs": [],
   "source": [
    "import pandas as pd\n",
    "import matplotlib.pyplot as plt\n",
    "import matplotlib.dates as mdates\n",
    "import numpy as np\n",
    "import matplotlib.ticker as ticker \n",
    "from sklearn.cluster import KMeans\n",
    "from datetime import datetime\n",
    "from pytz import timezone\n",
    "import seaborn as sn\n",
    "from sklearn.preprocessing import StandardScaler\n",
    "from sklearn.decomposition import PCA\n",
    "from sklearn.linear_model import LinearRegression\n",
    "from sklearn.model_selection import train_test_split\n",
    "from sklearn.ensemble import RandomForestClassifier\n",
    "from sklearn.metrics import accuracy_score, confusion_matrix, precision_score, recall_score, ConfusionMatrixDisplay, f1_score\n",
    "from sklearn.tree import export_graphviz\n",
    "from sklearn.neighbors import KNeighborsClassifier\n",
    "from sklearn.naive_bayes import GaussianNB\n",
    "from sklearn.ensemble import VotingClassifier"
   ]
  },
  {
   "cell_type": "code",
   "execution_count": 82,
   "id": "be1ca707",
   "metadata": {},
   "outputs": [],
   "source": [
    "data = pd.read_csv(\"/home/machouba/Documents/CC_42/Train_knight.csv\")\n",
    "data['knight'] = data['knight'].map({'Jedi': 1, 'Sith': 0})\n",
    "\n",
    "X = data.drop('knight', axis=1)\n",
    "y = data['knight']\n",
    "\n",
    "X_train, X_test, y_train, y_test = train_test_split(X, y, test_size=0.2, random_state=42)"
   ]
  },
  {
   "cell_type": "code",
   "execution_count": 83,
   "id": "4db5cf19",
   "metadata": {},
   "outputs": [],
   "source": [
    "knn = KNeighborsClassifier(n_neighbors=4)\n",
    "knn = knn.fit(X_train, y_train)"
   ]
  },
  {
   "cell_type": "code",
   "execution_count": 84,
   "id": "940c5eaf",
   "metadata": {},
   "outputs": [],
   "source": [
    "GNB = GaussianNB()\n",
    "GNB = GNB.fit(X_train, y_train)"
   ]
  },
  {
   "cell_type": "code",
   "execution_count": 85,
   "id": "245fdd5a",
   "metadata": {},
   "outputs": [],
   "source": [
    "rf = RandomForestClassifier()\n",
    "rf = rf.fit(X_train, y_train)"
   ]
  },
  {
   "cell_type": "code",
   "execution_count": 86,
   "id": "0f0ad14a",
   "metadata": {},
   "outputs": [
    {
     "name": "stdout",
     "output_type": "stream",
     "text": [
      "KNN Accuracy: 95.0 KNN Precision: 96.7741935483871 KNN Recall: 90.9090909090909 KNN F1-score: 93.75\n",
      "GNB Accuracy: 95.0 GNB Precision: 93.93939393939394 GNB Recall: 93.93939393939394 GNB F1-score: 93.93939393939394\n",
      "RF Accuracy: 100.0 RF Precision: 100.0 RF Recall: 100.0 RF F1-score: 100.0\n"
     ]
    }
   ],
   "source": [
    "knn_pred = knn.predict(X_test)\n",
    "GNB_pred = GNB.predict(X_test)\n",
    "rf_pred = rf.predict(X_test)\n",
    "\n",
    "print(\"KNN Accuracy:\", accuracy_score(y_test, knn_pred) * 100, \"KNN Precision:\", precision_score(y_test, knn_pred) * 100, \"KNN Recall:\", recall_score(y_test, knn_pred) * 100, \"KNN F1-score:\", f1_score(y_test, knn_pred) * 100)\n",
    "print(\"GNB Accuracy:\", accuracy_score(y_test, GNB_pred) * 100, \"GNB Precision:\", precision_score(y_test, GNB_pred) * 100, \"GNB Recall:\", recall_score(y_test, GNB_pred) * 100, \"GNB F1-score:\", f1_score(y_test, GNB_pred) * 100)\n",
    "print(\"RF Accuracy:\", accuracy_score(y_test, rf_pred) * 100, \"RF Precision:\", precision_score(y_test, rf_pred) * 100, \"RF Recall:\", recall_score(y_test, rf_pred) * 100, \"RF F1-score:\", f1_score(y_test, rf_pred) * 100)"
   ]
  },
  {
   "cell_type": "code",
   "execution_count": 87,
   "id": "aac41cc2",
   "metadata": {},
   "outputs": [
    {
     "name": "stdout",
     "output_type": "stream",
     "text": [
      "VOTING Accuracy: 98.75 VOTING Precision: 100.0 VOTING Recall: 96.96969696969697 VOTING F1-score: 98.46153846153847\n"
     ]
    }
   ],
   "source": [
    "vot = VotingClassifier(estimators=[('KNN', knn), ('GNB', GNB), ('RF', rf)], voting='hard')\n",
    "vot = vot.fit(X_train, y_train)\n",
    "vot_pred = vot.predict(X_test)\n",
    "print(\"VOTING Accuracy:\", accuracy_score(y_test, vot_pred) * 100, \"VOTING Precision:\", precision_score(y_test, vot_pred) * 100, \"VOTING Recall:\", recall_score(y_test, vot_pred) * 100, \"VOTING F1-score:\", f1_score(y_test, vot_pred) * 100)"
   ]
  },
  {
   "cell_type": "code",
   "execution_count": null,
   "id": "a542fc9a",
   "metadata": {},
   "outputs": [],
   "source": [
    "data_test = pd.read_csv(\"/home/machouba/Documents/CC_42/Test_knight.csv\")\n",
    "\n",
    "result = vot.predict(data_test)\n",
    "\n",
    "result = pd.DataFrame(result, columns=['knight'])\n",
    "result['knight'] = result['knight'].map({1: 'Jedi', 0: 'Sith'})\n",
    "\n",
    "result.to_csv('Voting.txt', index=False, header=False)"
   ]
  }
 ],
 "metadata": {
  "kernelspec": {
   "display_name": "Python 3",
   "language": "python",
   "name": "python3"
  },
  "language_info": {
   "codemirror_mode": {
    "name": "ipython",
    "version": 3
   },
   "file_extension": ".py",
   "mimetype": "text/x-python",
   "name": "python",
   "nbconvert_exporter": "python",
   "pygments_lexer": "ipython3",
   "version": "3.10.18"
  }
 },
 "nbformat": 4,
 "nbformat_minor": 5
}
