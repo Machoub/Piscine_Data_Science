{
 "cells": [
  {
   "cell_type": "code",
   "execution_count": 11,
   "id": "2ba23928",
   "metadata": {},
   "outputs": [
    {
     "name": "stdout",
     "output_type": "stream",
     "text": [
      "     Sensitivity  Hability  Strength   Power  Agility  Dexterity  Awareness  \\\n",
      "0         11.420     20.38     77.58   386.1  0.14250    0.28390    0.24140   \n",
      "1         18.250     19.98    119.60  1040.0  0.09463    0.10900    0.11270   \n",
      "2         14.680     20.13     94.74   684.5  0.09867    0.07200    0.07395   \n",
      "3         13.540     14.36     87.46   566.3  0.09779    0.08129    0.06664   \n",
      "4         15.340     14.26    102.50   704.4  0.10730    0.21350    0.20770   \n",
      "..           ...       ...       ...     ...      ...        ...        ...   \n",
      "166        9.423     27.88     59.26   271.3  0.08123    0.04971    0.00000   \n",
      "167       14.590     22.68     96.39   657.1  0.08473    0.13300    0.10290   \n",
      "168       20.920     25.09    143.00  1347.0  0.10990    0.22360    0.31740   \n",
      "169       16.600     28.08    108.30   858.1  0.08455    0.10230    0.09251   \n",
      "170        7.760     24.54     47.92   181.0  0.05263    0.04362    0.00000   \n",
      "\n",
      "     Prescience  Reactivity  Midi-chlorien  ...  Recovery  Evade   Stims  \\\n",
      "0       0.10520      0.2597        0.09744  ...    14.910  26.50   98.87   \n",
      "1       0.07400      0.1794        0.05742  ...    22.880  27.66  153.20   \n",
      "2       0.05259      0.1586        0.05922  ...    19.070  30.88  123.40   \n",
      "3       0.04781      0.1885        0.05766  ...    15.110  19.26   99.70   \n",
      "4       0.09756      0.2521        0.07032  ...    18.070  19.08  125.10   \n",
      "..          ...         ...            ...  ...       ...    ...     ...   \n",
      "166     0.00000      0.1742        0.06059  ...    10.490  34.24   66.50   \n",
      "167     0.03736      0.1454        0.06147  ...    15.480  27.27  105.90   \n",
      "168     0.14740      0.2149        0.06879  ...    24.290  29.41  179.10   \n",
      "169     0.05302      0.1590        0.05648  ...    18.980  34.12  126.70   \n",
      "170     0.00000      0.1587        0.05884  ...     9.456  30.37   59.16   \n",
      "\n",
      "     Sprint    Combo    Delay  Attunement  Empowered   Burst  Grasping  \n",
      "0     567.7  0.20980  0.86630      0.6869     0.2575  0.6638   0.17300  \n",
      "1    1606.0  0.14420  0.25760      0.3784     0.1932  0.3063   0.08368  \n",
      "2    1138.0  0.14640  0.18710      0.2914     0.1609  0.3029   0.08216  \n",
      "3     711.2  0.14400  0.17730      0.2390     0.1288  0.2977   0.07259  \n",
      "4     980.9  0.13900  0.59540      0.6305     0.2393  0.4667   0.09946  \n",
      "..      ...      ...      ...         ...        ...     ...       ...  \n",
      "166   330.6  0.10730  0.07158      0.0000     0.0000  0.2475   0.06969  \n",
      "167   733.5  0.10260  0.31710      0.3662     0.1105  0.2258   0.08004  \n",
      "168  1819.0  0.14070  0.41860      0.6599     0.2542  0.2929   0.09873  \n",
      "169  1124.0  0.11390  0.30940      0.3403     0.1418  0.2218   0.07820  \n",
      "170   268.6  0.08996  0.06444      0.0000     0.0000  0.2871   0.07039  \n",
      "\n",
      "[171 rows x 30 columns]\n"
     ]
    }
   ],
   "source": [
    "import pandas as pd\n",
    "import seaborn as sns\n",
    "import matplotlib.pyplot as plt\n",
    "import numpy as np\n",
    "from sklearn.linear_model import LinearRegression\n",
    "\n",
    "data = pd.read_csv(\"/home/machouba/CC_42/Test_knight.csv\")\n",
    "print(data)"
   ]
  },
  {
   "cell_type": "code",
   "execution_count": 12,
   "id": "decfb7fa",
   "metadata": {},
   "outputs": [],
   "source": [
    "def getVIF(data):\n",
    "    VIF, tolerance = {}, {}\n",
    "\n",
    "    for col in data.columns:\n",
    "        X = data.loc[:, data.columns != col]\n",
    "        y = data[col]\n",
    "\n",
    "        r2 = LinearRegression().fit(X, y).score(X, y)\n",
    "\n",
    "        VIF[col] = 1 / (1 - r2)\n",
    "        tolerance[col] = 1 - r2\n",
    "\n",
    "    new_data = pd.DataFrame({'VIF': VIF, 'Tolerance': tolerance})\n",
    "\n",
    "    return new_data"
   ]
  },
  {
   "cell_type": "code",
   "execution_count": 13,
   "id": "1c0cd514",
   "metadata": {},
   "outputs": [
    {
     "name": "stdout",
     "output_type": "stream",
     "text": [
      "                       VIF  Tolerance\n",
      "Sensitivity    4282.499725   0.000234\n",
      "Hability         18.559728   0.053880\n",
      "Strength       4003.652047   0.000250\n",
      "Power           477.730519   0.002093\n",
      "Agility          13.713180   0.072923\n",
      "Dexterity        57.554993   0.017375\n",
      "Awareness        96.794082   0.010331\n",
      "Prescience       95.728833   0.010446\n",
      "Reactivity        5.860520   0.170633\n",
      "Midi-chlorien    25.555332   0.039131\n",
      "Slash           160.894576   0.006215\n",
      "Push              8.206184   0.121859\n",
      "Pull            133.100410   0.007513\n",
      "Lightsaber       94.559187   0.010575\n",
      "Survival          9.293929   0.107597\n",
      "Repulse          41.250309   0.024242\n",
      "Friendship       33.496386   0.029854\n",
      "Blocking         12.589272   0.079433\n",
      "Deflection        8.977914   0.111384\n",
      "Mass             15.562145   0.064258\n",
      "Recovery       1367.001571   0.000732\n",
      "Evade            31.477268   0.031769\n",
      "Stims          1047.514892   0.000955\n",
      "Sprint          605.793908   0.001651\n",
      "Combo            20.478328   0.048832\n",
      "Delay            67.869502   0.014734\n",
      "Attunement       50.176972   0.019929\n",
      "Empowered        50.842847   0.019668\n",
      "Burst            16.250516   0.061537\n",
      "Grasping         27.021861   0.037007\n"
     ]
    }
   ],
   "source": [
    "Data_tab = getVIF(data)\n",
    "print(Data_tab)"
   ]
  },
  {
   "cell_type": "code",
   "execution_count": 15,
   "id": "a2eb9127",
   "metadata": {},
   "outputs": [
    {
     "name": "stdout",
     "output_type": "stream",
     "text": [
      "                  VIF  Tolerance\n",
      "Hability    18.559728   0.053880\n",
      "Agility     13.713180   0.072923\n",
      "Reactivity   5.860520   0.170633\n",
      "Push         8.206184   0.121859\n",
      "Survival     9.293929   0.107597\n",
      "Blocking    12.589272   0.079433\n",
      "Deflection   8.977914   0.111384\n",
      "Mass        15.562145   0.064258\n",
      "Burst       16.250516   0.061537\n"
     ]
    }
   ],
   "source": [
    "filter_data = Data_tab[Data_tab['VIF'] < 20]\n",
    "print(filter_data)"
   ]
  },
  {
   "cell_type": "code",
   "execution_count": 17,
   "id": "276947d5",
   "metadata": {},
   "outputs": [
    {
     "name": "stdout",
     "output_type": "stream",
     "text": [
      "                 VIF  Tolerance\n",
      "Hability    1.588884   0.629372\n",
      "Agility     2.011348   0.497179\n",
      "Reactivity  3.411259   0.293147\n",
      "Push        2.641844   0.378523\n",
      "Survival    2.809871   0.355888\n",
      "Blocking    1.911402   0.523176\n",
      "Deflection  3.184275   0.314043\n",
      "Mass        2.026078   0.493564\n",
      "Burst       4.165357   0.240075\n"
     ]
    }
   ],
   "source": [
    "data = data[filter_data.index]\n",
    "data_multicol = getVIF(data)\n",
    "print(data_multicol)"
   ]
  }
 ],
 "metadata": {
  "kernelspec": {
   "display_name": "Python 3",
   "language": "python",
   "name": "python3"
  },
  "language_info": {
   "codemirror_mode": {
    "name": "ipython",
    "version": 3
   },
   "file_extension": ".py",
   "mimetype": "text/x-python",
   "name": "python",
   "nbconvert_exporter": "python",
   "pygments_lexer": "ipython3",
   "version": "3.10.18"
  }
 },
 "nbformat": 4,
 "nbformat_minor": 5
}
