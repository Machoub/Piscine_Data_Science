{
 "cells": [
  {
   "cell_type": "code",
   "execution_count": null,
   "id": "85604d3e",
   "metadata": {},
   "outputs": [],
   "source": [
    "import pandas as pd\n",
    "import seaborn as sns\n",
    "import matplotlib.pyplot as plt\n",
    "import numpy as np\n",
    "\n"
   ]
  },
  {
   "cell_type": "code",
   "execution_count": 5,
   "id": "cfb6da0b",
   "metadata": {},
   "outputs": [
    {
     "name": "stdout",
     "output_type": "stream",
     "text": [
      "     Sensitivity  Hability  Strength   Power  Agility  Dexterity  Awareness  \\\n",
      "0         11.800     17.26     75.26   431.9  0.09087    0.06232   0.028530   \n",
      "1         19.810     22.15    130.00  1260.0  0.09831    0.10270   0.147900   \n",
      "2         10.970     17.20     71.73   371.5  0.08915    0.11130   0.094570   \n",
      "3         11.620     18.18     76.38   408.8  0.11750    0.14830   0.102000   \n",
      "4         11.260     19.83     71.30   388.1  0.08511    0.04413   0.005067   \n",
      "..           ...       ...       ...     ...      ...        ...        ...   \n",
      "393        8.618     11.79     54.34   224.5  0.09752    0.05272   0.020610   \n",
      "394       13.530     10.94     87.91   559.2  0.12910    0.10470   0.068770   \n",
      "395       11.640     18.33     75.17   412.5  0.11420    0.10170   0.070700   \n",
      "396        9.876     19.40     63.95   298.3  0.10050    0.09697   0.061540   \n",
      "397       19.550     28.77    133.60  1207.0  0.09260    0.20630   0.178400   \n",
      "\n",
      "     Prescience  Reactivity  Midi-chlorien  ...  Evade   Stims  Sprint  \\\n",
      "0      0.016380      0.1847        0.06019  ...  24.49   86.00   562.0   \n",
      "1      0.094980      0.1582        0.05395  ...  30.88  186.80  2398.0   \n",
      "2      0.036130      0.1489        0.06640  ...  26.87   90.14   476.4   \n",
      "3      0.055640      0.1957        0.07255  ...  25.40   88.14   528.1   \n",
      "4      0.005664      0.1637        0.06343  ...  26.43   76.38   435.9   \n",
      "..          ...         ...            ...  ...    ...     ...     ...   \n",
      "393    0.007799      0.1683        0.07187  ...  15.40   59.90   274.9   \n",
      "394    0.065560      0.2403        0.06641  ...  12.49   91.36   605.5   \n",
      "395    0.034850      0.1801        0.06520  ...  29.26   85.51   521.7   \n",
      "396    0.030290      0.1945        0.06322  ...  26.83   72.22   361.2   \n",
      "397    0.114400      0.1893        0.06232  ...  36.27  178.60  1926.0   \n",
      "\n",
      "      Combo    Delay  Attunement  Empowered   Burst  Grasping  knight  \n",
      "0    0.1244  0.17260     0.14490    0.05356  0.2779   0.08121       1  \n",
      "1    0.1512  0.31500     0.53720    0.23880  0.2768   0.07615       0  \n",
      "2    0.1391  0.40820     0.47790    0.15550  0.2540   0.09532       1  \n",
      "3    0.1780  0.28780     0.31860    0.14160  0.2660   0.09270       1  \n",
      "4    0.1108  0.07723     0.02533    0.02832  0.2557   0.07613       1  \n",
      "..      ...      ...         ...        ...     ...       ...     ...  \n",
      "393  0.1733  0.12390     0.11680    0.04419  0.3220   0.09026       1  \n",
      "394  0.1451  0.13790     0.08539    0.07407  0.2710   0.07191       1  \n",
      "395  0.1688  0.26600     0.28730    0.12180  0.2806   0.09097       1  \n",
      "396  0.1559  0.23020     0.26440    0.09749  0.2622   0.08490       1  \n",
      "397  0.1281  0.53290     0.42510    0.19410  0.2818   0.10050       0  \n",
      "\n",
      "[398 rows x 31 columns]\n"
     ]
    },
    {
     "name": "stderr",
     "output_type": "stream",
     "text": [
      "/tmp/ipykernel_542395/3892832879.py:3: FutureWarning: Downcasting behavior in `replace` is deprecated and will be removed in a future version. To retain the old behavior, explicitly call `result.infer_objects(copy=False)`. To opt-in to the future behavior, set `pd.set_option('future.no_silent_downcasting', True)`\n",
      "  dataTrain[\"knight\"] = dataTrain[\"knight\"].replace({\"Sith\": 1, \"Jedi\": 0})\n"
     ]
    }
   ],
   "source": [
    "dataTrain = pd.read_csv(\"/home/machouba/CC_42/Train_knight.csv\")\n",
    "\n",
    "dataTrain[\"knight\"] = dataTrain[\"knight\"].replace({\"Sith\": 1, \"Jedi\": 0})\n",
    "\n",
    "print(dataTrain)"
   ]
  },
  {
   "cell_type": "code",
   "execution_count": 11,
   "id": "c47a81ec",
   "metadata": {},
   "outputs": [
    {
     "name": "stdout",
     "output_type": "stream",
     "text": [
      "Sensitivity          11.713335\n",
      "Hability             17.264915\n",
      "Strength            555.161298\n",
      "Power            114926.555203\n",
      "Agility               0.000185\n",
      "Dexterity             0.002603\n",
      "Awareness             0.006245\n",
      "Prescience            0.001419\n",
      "Reactivity            0.000704\n",
      "Midi-chlorien         0.000044\n",
      "Slash                 0.082092\n",
      "Push                  0.303136\n",
      "Pull                  4.405535\n",
      "Lightsaber         2266.729827\n",
      "Survival              0.000009\n",
      "Repulse               0.000277\n",
      "Friendship            0.001015\n",
      "Blocking              0.000038\n",
      "Deflection            0.000054\n",
      "Mass                  0.000007\n",
      "Recovery             21.653976\n",
      "Evade                35.842396\n",
      "Stims              1050.961221\n",
      "Sprint           288813.118321\n",
      "Combo                 0.000524\n",
      "Delay                 0.025687\n",
      "Attunement            0.046422\n",
      "Empowered             0.004278\n",
      "Burst                 0.003337\n",
      "Grasping              0.000341\n",
      "knight                0.236649\n",
      "dtype: float64\n",
      "407704.1210930956\n"
     ]
    }
   ],
   "source": [
    "var = dataTrain.var()\n",
    "sum_var = np.sum(var)\n",
    "print(var)\n",
    "print(sum_var)"
   ]
  },
  {
   "cell_type": "code",
   "execution_count": null,
   "id": "d6245f9d",
   "metadata": {},
   "outputs": [],
   "source": []
  }
 ],
 "metadata": {
  "kernelspec": {
   "display_name": ".venv",
   "language": "python",
   "name": "python3"
  },
  "language_info": {
   "codemirror_mode": {
    "name": "ipython",
    "version": 3
   },
   "file_extension": ".py",
   "mimetype": "text/x-python",
   "name": "python",
   "nbconvert_exporter": "python",
   "pygments_lexer": "ipython3",
   "version": "3.10.18"
  }
 },
 "nbformat": 4,
 "nbformat_minor": 5
}
