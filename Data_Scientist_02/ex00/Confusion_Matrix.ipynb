{
 "cells": [
  {
   "cell_type": "code",
   "execution_count": 21,
   "id": "6356fe31",
   "metadata": {},
   "outputs": [],
   "source": [
    "import pandas as pd\n",
    "import matplotlib.pyplot as plt\n",
    "import numpy as np\n",
    "import seaborn as sns\n",
    "\n",
    "read_truth = open(\"truth.txt\", \"r\")\n",
    "\n",
    "truth = [line.rstrip() for line in read_truth.readlines()]\n",
    "truthJedi = [line for line in truth if \"Jedi\" in line]\n",
    "truthSith = [line for line in truth if \"Sith\" in line]\n",
    "\n",
    "read_truth.close()\n"
   ]
  },
  {
   "cell_type": "code",
   "execution_count": 22,
   "id": "89469491",
   "metadata": {},
   "outputs": [],
   "source": [
    "read_predictions = open(\"predictions.txt\", \"r\")\n",
    "\n",
    "predictions = [line.rstrip() for line in read_predictions.readlines()]\n",
    "predictionsJedi = [line for line in predictions if \"Jedi\" in line]\n",
    "predictionsSith = [line for line in predictions if \"Sith\" in line]\n",
    "\n",
    "read_predictions.close()\n"
   ]
  },
  {
   "cell_type": "code",
   "execution_count": 18,
   "id": "add5d5bb",
   "metadata": {},
   "outputs": [
    {
     "name": "stdout",
     "output_type": "stream",
     "text": [
      "Confusion Matrix: [[25, 24], [30, 21]]\n"
     ]
    }
   ],
   "source": [
    "data = pd.DataFrame({\n",
    "    \"truth\": truth,\n",
    "    \"predictions\": predictions\n",
    "})\n",
    "\n",
    "jedi_negatif = data[(data[\"truth\"] == \"Jedi\") & (data[\"predictions\"] == \"Sith\")]\n",
    "sith_negatif = data[(data[\"truth\"] == \"Sith\") & (data[\"predictions\"] == \"Jedi\")]\n",
    "jedi_positif = data[(data[\"truth\"] == \"Jedi\") & (data[\"predictions\"] == \"Jedi\")]\n",
    "sith_positif = data[(data[\"truth\"] == \"Sith\") & (data[\"predictions\"] == \"Sith\")]\n",
    "\n",
    "length_jedi_negatif = len(jedi_negatif)\n",
    "length_sith_negatif = len(sith_negatif)\n",
    "length_jedi_positif = len(jedi_positif)\n",
    "length_sith_positif = len(sith_positif)\n",
    "\n",
    "confusion_matrix = [\n",
    "    [length_jedi_positif, length_jedi_negatif],\n",
    "    [length_sith_negatif, length_sith_positif]\n",
    "]\n",
    "\n",
    "print(\"Confusion Matrix:\", confusion_matrix)\n"
   ]
  },
  {
   "cell_type": "code",
   "execution_count": 19,
   "id": "19860e33",
   "metadata": {},
   "outputs": [
    {
     "data": {
      "image/png": "[encoded data removed]",
      "text/plain": [
       "<Figure size 640x480 with 2 Axes>"
      ]
     },
     "metadata": {},
     "output_type": "display_data"
    }
   ],
   "source": [
    "sns.heatmap(confusion_matrix, annot=True, fmt=\"d\", cmap=\"Blues\")\n",
    "plt.xlabel(\"Predicted\")\n",
    "plt.ylabel(\"Actual\")\n",
    "plt.title(\"Confusion Matrix\")\n",
    "plt.show()"
   ]
  },
  {
   "cell_type": "code",
   "execution_count": 20,
   "id": "77adbe4d",
   "metadata": {},
   "outputs": [
    {
     "name": "stdout",
     "output_type": "stream",
     "text": [
      "         Precision Recall F1 Score Total\n",
      "Jedi          0.45   0.51     0.48    49\n",
      "Sith          0.47   0.41     0.44    51\n",
      "Accuracy                      0.46   100\n"
     ]
    }
   ],
   "source": [
    "precision_jedi = length_jedi_positif / (length_jedi_positif + length_sith_negatif) if (length_jedi_positif + length_sith_negatif) > 0 else 0\n",
    "precision_sith = length_sith_positif / (length_sith_positif + length_jedi_negatif) if (length_sith_positif + length_jedi_negatif) > 0 else 0\n",
    "recall_jedi = length_jedi_positif / (length_jedi_positif + length_jedi_negatif) if (length_jedi_positif + length_jedi_negatif) > 0 else 0\n",
    "recall_sith = length_sith_positif / (length_sith_positif + length_sith_negatif) if (length_sith_positif + length_sith_negatif) > 0 else 0\n",
    "f1_score_jedi = 2 * (precision_jedi * recall_jedi) / (precision_jedi + recall_jedi) if (precision_jedi + recall_jedi) > 0 else 0\n",
    "f1_score_sith = 2 * (precision_sith * recall_sith) / (precision_sith + recall_sith) if (precision_sith + recall_sith) > 0 else 0\n",
    "\n",
    "accuracy = (length_jedi_positif + length_sith_positif) / (length_jedi_positif + length_sith_positif + length_jedi_negatif + length_sith_negatif) if (length_jedi_positif + length_sith_positif + length_jedi_negatif + length_sith_negatif) > 0 else 0\n",
    "\n",
    "total = len(truth)\n",
    "total_jedi = len(truthJedi)\n",
    "total_sith = len(truthSith)\n",
    "\n",
    "table_metrics = pd.DataFrame(columns=[\"Precision\", \"Recall\", \"F1 Score\", \"Total\"], index=[\"Jedi\", \"Sith\", \"Accuracy\"])\n",
    "table_metrics.loc[\"Jedi\"] = [round(precision_jedi, 2), round(recall_jedi, 2), round(f1_score_jedi, 2), total_jedi]\n",
    "table_metrics.loc[\"Sith\"] = [round(precision_sith, 2), round(recall_sith, 2), round(f1_score_sith, 2), total_sith]\n",
    "table_metrics.loc[\"Accuracy\"] = [\"\", \"\", round(accuracy, 2), total]\n",
    "print(table_metrics)\n"
   ]
  }
 ],
 "metadata": {
  "kernelspec": {
   "display_name": "Python 3",
   "language": "python",
   "name": "python3"
  },
  "language_info": {
   "codemirror_mode": {
    "name": "ipython",
    "version": 3
   },
   "file_extension": ".py",
   "mimetype": "text/x-python",
   "name": "python",
   "nbconvert_exporter": "python",
   "pygments_lexer": "ipython3",
   "version": "3.10.18"
  }
 },
 "nbformat": 4,
 "nbformat_minor": 5
}
