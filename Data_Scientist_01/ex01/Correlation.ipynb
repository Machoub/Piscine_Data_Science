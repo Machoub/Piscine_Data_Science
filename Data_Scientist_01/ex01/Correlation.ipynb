{
 "cells": [
  {
   "cell_type": "code",
   "execution_count": null,
   "id": "eedcd8a2",
   "metadata": {},
   "outputs": [
    {
     "name": "stdout",
     "output_type": "stream",
     "text": [
      "knight           1.000000\n",
      "Empowered        0.793652\n",
      "Prescience       0.790066\n",
      "Stims            0.786797\n",
      "Recovery         0.777633\n",
      "Sprint           0.739672\n",
      "Strength         0.737403\n",
      "Sensitivity      0.721566\n",
      "Power            0.700709\n",
      "Awareness        0.699662\n",
      "Attunement       0.648893\n",
      "Dexterity        0.631987\n",
      "Delay            0.598072\n",
      "Slash            0.550663\n",
      "Pull             0.537800\n",
      "Lightsaber       0.515340\n",
      "Evade            0.465605\n",
      "Hability         0.446632\n",
      "Burst            0.445847\n",
      "Combo            0.445223\n",
      "Blocking         0.421950\n",
      "Agility          0.397458\n",
      "Reactivity       0.375103\n",
      "Grasping         0.350105\n",
      "Repulse          0.324399\n",
      "Friendship       0.236633\n",
      "Mass             0.113185\n",
      "Midi-chlorien    0.008132\n",
      "Push            -0.019446\n",
      "Deflection      -0.026489\n",
      "Survival        -0.043099\n",
      "Name: knight, dtype: float64\n"
     ]
    },
    {
     "name": "stderr",
     "output_type": "stream",
     "text": [
      "/tmp/ipykernel_1288110/4055619559.py:8: FutureWarning: A value is trying to be set on a copy of a DataFrame or Series through chained assignment using an inplace method.\n",
      "The behavior will change in pandas 3.0. This inplace method will never work because the intermediate object on which we are setting values always behaves as a copy.\n",
      "\n",
      "For example, when doing 'df[col].method(value, inplace=True)', try using 'df.method({col: value}, inplace=True)' or df[col] = df[col].method(value) instead, to perform the operation inplace on the original object.\n",
      "\n",
      "\n",
      "  data_train[\"knight\"].replace({\"Jedi\": 1, \"Sith\": 0}, inplace=True)\n",
      "/tmp/ipykernel_1288110/4055619559.py:8: FutureWarning: Downcasting behavior in `replace` is deprecated and will be removed in a future version. To retain the old behavior, explicitly call `result.infer_objects(copy=False)`. To opt-in to the future behavior, set `pd.set_option('future.no_silent_downcasting', True)`\n",
      "  data_train[\"knight\"].replace({\"Jedi\": 1, \"Sith\": 0}, inplace=True)\n"
     ]
    }
   ],
   "source": [
    "import pandas as pd\n",
    "import matplotlib.pyplot as plt\n",
    "import numpy as np\n",
    "\n",
    "\n",
    "data_train = pd.read_csv(\"/home/machouba/CC_42/Train_knight.csv\")\n",
    "\n",
    "data_train[\"knight\"].replace({\"Jedi\": 1, \"Sith\": 0}, inplace=True)\n",
    "corr = data_train.corr()\n",
    "sorted_corr = corr.sort_values(by=\"knight\", ascending=False)\n",
    "print(sorted_corr[\"knight\"])\n"
   ]
  }
 ],
 "metadata": {
  "kernelspec": {
   "display_name": ".venv",
   "language": "python",
   "name": "python3"
  },
  "language_info": {
   "codemirror_mode": {
    "name": "ipython",
    "version": 3
   },
   "file_extension": ".py",
   "mimetype": "text/x-python",
   "name": "python",
   "nbconvert_exporter": "python",
   "pygments_lexer": "ipython3",
   "version": "3.10.18"
  }
 },
 "nbformat": 4,
 "nbformat_minor": 5
}
